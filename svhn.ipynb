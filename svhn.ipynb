{
 "cells": [
  {
   "cell_type": "code",
   "execution_count": 2,
   "id": "6b28b2a3",
   "metadata": {},
   "outputs": [],
   "source": [
    "import numpy as np\n",
    "import keras\n",
    "import seaborn as sns\n",
    "from matplotlib import pyplot as plt\n",
    "from scipy.io import loadmat\n",
    "from sklearn.model_selection import train_test_split\n",
    "from sklearn.preprocessing import LabelBinarizer\n",
    "from sklearn.metrics import confusion_matrix\n",
    "from keras.preprocessing.image import ImageDataGenerator\n",
    "%matplotlib inline\n",
    "import os\n",
    "import struct"
   ]
  },
  {
   "cell_type": "code",
   "execution_count": 3,
   "id": "7058a315",
   "metadata": {},
   "outputs": [],
   "source": [
    "np.random.seed(7)"
   ]
  },
  {
   "cell_type": "code",
   "execution_count": 5,
   "id": "77de4d2d",
   "metadata": {},
   "outputs": [
    {
     "name": "stdout",
     "output_type": "stream",
     "text": [
      "Loading matlab data of SVHN\n",
      "Program done!\n"
     ]
    }
   ],
   "source": [
    "    dir_name = \"/Users/bipin/Downloads/archive (11)\"\n",
    "    if not os.path.isdir(dir_name):\n",
    "        os.mkdir(dir_name)\n",
    "    print(\"Loading matlab data of SVHN\")\n",
    "    mat1 = loadmat(\"/Users/bipin/Downloads/archive (11)/train_32x32.mat\")\n",
    "    train_dataset = mat1['X']\n",
    "    print( \"Program done!\")\n",
    "    "
   ]
  },
  {
   "cell_type": "code",
   "execution_count": 7,
   "id": "f928d9d6",
   "metadata": {},
   "outputs": [
    {
     "name": "stdout",
     "output_type": "stream",
     "text": [
      "Loading matlab data of SVHN\n",
      "Program done!\n"
     ]
    }
   ],
   "source": [
    "dir_name = \"/Users/bipin/Downloads/archive (11)\"\n",
    "if not os.path.isdir(dir_name):\n",
    "    os.mkdir(dir_name)\n",
    "print(\"Loading matlab data of SVHN\")\n",
    "mat2 = loadmat(\"/Users/bipin/Downloads/archive (11)/test_32x32.mat\")\n",
    "test_dataset = mat2['X']\n",
    "print( \"Program done!\")"
   ]
  },
  {
   "cell_type": "code",
   "execution_count": 8,
   "id": "8eb9ae12",
   "metadata": {},
   "outputs": [],
   "source": [
    "train_images = np.array(mat1['X'])\n",
    "test_images = np.array(mat2['X'])\n",
    "\n",
    "train_labels = mat1['y']\n",
    "test_labels = mat2['y']"
   ]
  },
  {
   "cell_type": "code",
   "execution_count": 9,
   "id": "d4b491ff",
   "metadata": {},
   "outputs": [
    {
     "name": "stdout",
     "output_type": "stream",
     "text": [
      "(32, 32, 3, 73257)\n",
      "(32, 32, 3, 26032)\n"
     ]
    }
   ],
   "source": [
    "print(train_images.shape)\n",
    "print(test_images.shape)"
   ]
  },
  {
   "cell_type": "code",
   "execution_count": 10,
   "id": "cb2118f8",
   "metadata": {},
   "outputs": [
    {
     "name": "stdout",
     "output_type": "stream",
     "text": [
      "(73257, 32, 32, 3)\n",
      "(26032, 32, 32, 3)\n"
     ]
    }
   ],
   "source": [
    "train_images = np.moveaxis(train_images, -1, 0)\n",
    "test_images = np.moveaxis(test_images, -1, 0)\n",
    "\n",
    "print(train_images.shape)\n",
    "print(test_images.shape)"
   ]
  },
  {
   "cell_type": "code",
   "execution_count": 11,
   "id": "b53816c9",
   "metadata": {},
   "outputs": [
    {
     "data": {
      "image/png": "[encoded data removed]",
      "text/plain": [
       "<Figure size 432x288 with 1 Axes>"
      ]
     },
     "metadata": {
      "needs_background": "light"
     },
     "output_type": "display_data"
    }
   ],
   "source": [
    "plt.imshow(train_images[67])\n",
    "plt.show()"
   ]
  },
  {
   "cell_type": "code",
   "execution_count": 12,
   "id": "5d343e4e",
   "metadata": {},
   "outputs": [],
   "source": [
    "# Convert train and test images into 'float64' type\n",
    "\n",
    "train_images = train_images.astype('float64')\n",
    "test_images = test_images.astype('float64')"
   ]
  },
  {
   "cell_type": "code",
   "execution_count": 13,
   "id": "fdea2f71",
   "metadata": {},
   "outputs": [],
   "source": [
    "# Convert train and test labels into 'int64' type\n",
    "\n",
    "train_labels = train_labels.astype('int64')\n",
    "test_labels = test_labels.astype('int64')"
   ]
  },
  {
   "cell_type": "code",
   "execution_count": 14,
   "id": "3346b9d4",
   "metadata": {},
   "outputs": [
    {
     "name": "stdout",
     "output_type": "stream",
     "text": [
      "Min: 0.0, Max: 255.0\n"
     ]
    }
   ],
   "source": [
    "# Normalization\n",
    "\n",
    "print('Min: {}, Max: {}'.format(train_images.min(), train_images.max()))\n",
    "\n",
    "train_images /= 255.0\n",
    "test_images /= 255.0"
   ]
  },
  {
   "cell_type": "code",
   "execution_count": 17,
   "id": "140fcf13",
   "metadata": {},
   "outputs": [],
   "source": [
    "# One-hot encoding of train and test labels\n",
    "\n",
    "lb = LabelBinarizer()\n",
    "train_labels = lb.fit_transform(train_labels)\n",
    "test_labels = lb.fit_transform(test_labels)"
   ]
  },
  {
   "cell_type": "code",
   "execution_count": 18,
   "id": "8650ac85",
   "metadata": {},
   "outputs": [],
   "source": [
    "X_train, X_val, y_train, y_val = train_test_split(train_images, train_labels,test_size=0.2, random_state=5)"
   ]
  },
  {
   "cell_type": "code",
   "execution_count": 19,
   "id": "335ca7c3",
   "metadata": {},
   "outputs": [
    {
     "data": {
      "text/plain": [
       "(14652, 10)"
      ]
     },
     "execution_count": 19,
     "metadata": {},
     "output_type": "execute_result"
    }
   ],
   "source": [
    "y_val.shape"
   ]
  },
  {
   "cell_type": "code",
   "execution_count": 29,
   "id": "ecb09915",
   "metadata": {},
   "outputs": [],
   "source": [
    "# Data augmentation\n",
    "\n",
    "datagen = ImageDataGenerator(rotation_range=8,\n",
    "                             zoom_range=[0.95, 1.05],\n",
    "                             height_shift_range=0.10,\n",
    "                             shear_range=0.15)"
   ]
  },
  {
   "cell_type": "code",
   "execution_count": 22,
   "id": "532a7459",
   "metadata": {},
   "outputs": [],
   "source": [
    "keras.backend.clear_session()\n",
    "\n",
    "aux_model = keras.Sequential([\n",
    "    keras.layers.Conv2D(32, (3, 3), padding='same', \n",
    "                           activation='relu',\n",
    "                           input_shape=(32, 32, 3)),\n",
    "    keras.layers.BatchNormalization(),\n",
    "    keras.layers.Conv2D(32, (3, 3), padding='same', \n",
    "                        activation='relu'),\n",
    "    keras.layers.MaxPooling2D((2, 2)),\n",
    "    keras.layers.Dropout(0.3),\n",
    "    \n",
    "    keras.layers.Conv2D(64, (3, 3), padding='same', \n",
    "                           activation='relu'),\n",
    "    keras.layers.BatchNormalization(),\n",
    "    keras.layers.Conv2D(64, (3, 3), padding='same',\n",
    "                        activation='relu'),\n",
    "    keras.layers.MaxPooling2D((2, 2)),\n",
    "    keras.layers.Dropout(0.3),\n",
    "    \n",
    "    keras.layers.Conv2D(128, (3, 3), padding='same', \n",
    "                           activation='relu'),\n",
    "    keras.layers.BatchNormalization(),\n",
    "    keras.layers.Conv2D(128, (3, 3), padding='same',\n",
    "                        activation='relu'),\n",
    "    keras.layers.MaxPooling2D((2, 2)),\n",
    "    keras.layers.Dropout(0.3),\n",
    "    \n",
    "    keras.layers.Flatten(),\n",
    "    keras.layers.Dense(128, activation='relu'),\n",
    "    keras.layers.Dropout(0.4),    \n",
    "    keras.layers.Dense(10,  activation='softmax')\n",
    "])\n",
    "\n",
    "lr_schedule = keras.callbacks.LearningRateScheduler(\n",
    "              lambda epoch: 1e-4 * 10**(epoch / 10))\n",
    "optimizer = keras.optimizers.Adam(learning_rate=1e-4, amsgrad=True)\n",
    "aux_model.compile(optimizer=optimizer,\n",
    "                  loss='categorical_crossentropy',\n",
    "                 metrics=['accuracy'])"
   ]
  },
  {
   "cell_type": "code",
   "execution_count": 23,
   "id": "eaa34747",
   "metadata": {},
   "outputs": [
    {
     "name": "stderr",
     "output_type": "stream",
     "text": [
      "/opt/anaconda3/lib/python3.8/site-packages/keras/engine/training.py:1915: UserWarning: `Model.fit_generator` is deprecated and will be removed in a future version. Please use `Model.fit`, which supports generators.\n",
      "  warnings.warn('`Model.fit_generator` is deprecated and '\n"
     ]
    },
    {
     "name": "stdout",
     "output_type": "stream",
     "text": [
      "Epoch 1/30\n",
      "458/458 [==============================] - 151s 301ms/step - loss: 2.4583 - accuracy: 0.1558 - val_loss: 2.2226 - val_accuracy: 0.1915\n",
      "Epoch 2/30\n",
      "458/458 [==============================] - 136s 296ms/step - loss: 2.2006 - accuracy: 0.1973 - val_loss: 1.8869 - val_accuracy: 0.3180\n",
      "Epoch 3/30\n",
      "458/458 [==============================] - 136s 297ms/step - loss: 1.8431 - accuracy: 0.3433 - val_loss: 0.8579 - val_accuracy: 0.7432\n",
      "Epoch 4/30\n",
      "458/458 [==============================] - 135s 294ms/step - loss: 1.1525 - accuracy: 0.6188 - val_loss: 0.5630 - val_accuracy: 0.8308\n",
      "Epoch 5/30\n",
      "458/458 [==============================] - 136s 298ms/step - loss: 0.8450 - accuracy: 0.7289 - val_loss: 0.4294 - val_accuracy: 0.8756\n",
      "Epoch 6/30\n",
      "458/458 [==============================] - 136s 297ms/step - loss: 0.6890 - accuracy: 0.7860 - val_loss: 0.3801 - val_accuracy: 0.8877\n",
      "Epoch 7/30\n",
      "458/458 [==============================] - 137s 300ms/step - loss: 0.5802 - accuracy: 0.8232 - val_loss: 0.3445 - val_accuracy: 0.8990\n",
      "Epoch 8/30\n",
      "458/458 [==============================] - 137s 299ms/step - loss: 0.4984 - accuracy: 0.8518 - val_loss: 0.3276 - val_accuracy: 0.9047\n",
      "Epoch 9/30\n",
      "458/458 [==============================] - 137s 300ms/step - loss: 0.4443 - accuracy: 0.8696 - val_loss: 0.3756 - val_accuracy: 0.8844\n",
      "Epoch 10/30\n",
      "458/458 [==============================] - 137s 299ms/step - loss: 0.4122 - accuracy: 0.8805 - val_loss: 0.3074 - val_accuracy: 0.9111\n",
      "Epoch 11/30\n",
      "458/458 [==============================] - 136s 297ms/step - loss: 0.3846 - accuracy: 0.8875 - val_loss: 0.3301 - val_accuracy: 0.9031\n",
      "Epoch 12/30\n",
      "458/458 [==============================] - 137s 300ms/step - loss: 0.3649 - accuracy: 0.8945 - val_loss: 0.2855 - val_accuracy: 0.9223\n",
      "Epoch 13/30\n",
      "458/458 [==============================] - 136s 297ms/step - loss: 0.3554 - accuracy: 0.8974 - val_loss: 0.2917 - val_accuracy: 0.9185\n",
      "Epoch 14/30\n",
      "458/458 [==============================] - 137s 298ms/step - loss: 0.3513 - accuracy: 0.8992 - val_loss: 0.3108 - val_accuracy: 0.9115\n",
      "Epoch 15/30\n",
      "458/458 [==============================] - 138s 301ms/step - loss: 0.3506 - accuracy: 0.9010 - val_loss: 0.3260 - val_accuracy: 0.9071\n",
      "Epoch 16/30\n",
      "458/458 [==============================] - 140s 306ms/step - loss: 0.3489 - accuracy: 0.9022 - val_loss: 0.3654 - val_accuracy: 0.8974\n",
      "Epoch 17/30\n",
      "458/458 [==============================] - 145s 317ms/step - loss: 0.3535 - accuracy: 0.9012 - val_loss: 0.2842 - val_accuracy: 0.9262\n",
      "Epoch 18/30\n",
      "458/458 [==============================] - 142s 309ms/step - loss: 0.3531 - accuracy: 0.8995 - val_loss: 0.3439 - val_accuracy: 0.9105\n",
      "Epoch 19/30\n",
      "458/458 [==============================] - 139s 303ms/step - loss: 0.3691 - accuracy: 0.8949 - val_loss: 0.3201 - val_accuracy: 0.9088\n",
      "Epoch 20/30\n",
      "458/458 [==============================] - 139s 303ms/step - loss: 0.3703 - accuracy: 0.8968 - val_loss: 0.3561 - val_accuracy: 0.9014\n",
      "Epoch 21/30\n",
      "458/458 [==============================] - 139s 303ms/step - loss: 0.3878 - accuracy: 0.8909 - val_loss: 0.3318 - val_accuracy: 0.9118\n",
      "Epoch 22/30\n",
      "458/458 [==============================] - 138s 302ms/step - loss: 0.4073 - accuracy: 0.8847 - val_loss: 0.4451 - val_accuracy: 0.8748\n",
      "Epoch 23/30\n",
      "458/458 [==============================] - 138s 302ms/step - loss: 0.4641 - accuracy: 0.8693 - val_loss: 0.3802 - val_accuracy: 0.8984\n",
      "Epoch 24/30\n",
      "458/458 [==============================] - 138s 301ms/step - loss: 0.5379 - accuracy: 0.8499 - val_loss: 0.4263 - val_accuracy: 0.8961\n",
      "Epoch 25/30\n",
      "458/458 [==============================] - 140s 306ms/step - loss: 0.8767 - accuracy: 0.7605 - val_loss: 1.1408 - val_accuracy: 0.7365\n",
      "Epoch 26/30\n",
      "458/458 [==============================] - 146s 318ms/step - loss: 1.8802 - accuracy: 0.3803 - val_loss: 2.2337 - val_accuracy: 0.1914\n",
      "Epoch 27/30\n",
      "458/458 [==============================] - 146s 319ms/step - loss: 2.2411 - accuracy: 0.1849 - val_loss: 2.2359 - val_accuracy: 0.1914\n",
      "Epoch 28/30\n",
      "458/458 [==============================] - 149s 325ms/step - loss: 2.2401 - accuracy: 0.1889 - val_loss: 2.2348 - val_accuracy: 0.1914\n",
      "Epoch 29/30\n",
      "458/458 [==============================] - 152s 332ms/step - loss: 2.2421 - accuracy: 0.1887 - val_loss: 2.2385 - val_accuracy: 0.1914\n",
      "Epoch 30/30\n",
      "458/458 [==============================] - 166s 361ms/step - loss: 2.2412 - accuracy: 0.1877 - val_loss: 2.2353 - val_accuracy: 0.1914\n"
     ]
    }
   ],
   "source": [
    "# Fit model in order to determine best learning rate\n",
    "\n",
    "history = aux_model.fit_generator(datagen.flow(X_train, y_train, batch_size=128),\n",
    "                              epochs=30, validation_data=(X_val, y_val),\n",
    "                              callbacks=[lr_schedule])"
   ]
  },
  {
   "cell_type": "code",
   "execution_count": 24,
   "id": "bda17583",
   "metadata": {},
   "outputs": [],
   "source": [
    "keras.backend.clear_session()\n",
    "\n",
    "model = keras.Sequential([\n",
    "    keras.layers.Conv2D(32, (3, 3), padding='same', \n",
    "                           activation='relu',\n",
    "                           input_shape=(32, 32, 3)),\n",
    "    keras.layers.BatchNormalization(),\n",
    "    keras.layers.Conv2D(32, (3, 3), padding='same', \n",
    "                        activation='relu'),\n",
    "    keras.layers.MaxPooling2D((2, 2)),\n",
    "    keras.layers.Dropout(0.3),\n",
    "    \n",
    "    keras.layers.Conv2D(64, (3, 3), padding='same', \n",
    "                           activation='relu'),\n",
    "    keras.layers.BatchNormalization(),\n",
    "    keras.layers.Conv2D(64, (3, 3), padding='same',\n",
    "                        activation='relu'),\n",
    "    keras.layers.MaxPooling2D((2, 2)),\n",
    "    keras.layers.Dropout(0.3),\n",
    "    \n",
    "    keras.layers.Conv2D(128, (3, 3), padding='same', \n",
    "                           activation='relu'),\n",
    "    keras.layers.BatchNormalization(),\n",
    "    keras.layers.Conv2D(128, (3, 3), padding='same',\n",
    "                        activation='relu'),\n",
    "    keras.layers.MaxPooling2D((2, 2)),\n",
    "    keras.layers.Dropout(0.3),\n",
    "    \n",
    "    keras.layers.Flatten(),\n",
    "    keras.layers.Dense(128, activation='relu'),\n",
    "    keras.layers.Dropout(0.4),    \n",
    "    keras.layers.Dense(10,  activation='softmax')\n",
    "])\n",
    "\n",
    "early_stopping = keras.callbacks.EarlyStopping(patience=8)\n",
    "optimizer = keras.optimizers.Adam(learning_rate=1e-3, amsgrad=True)\n",
    "model_checkpoint = keras.callbacks.ModelCheckpoint(\n",
    "                   '/kaggle/working/best_cnn.h5', \n",
    "                   save_best_only=True)\n",
    "model.compile(optimizer=optimizer,\n",
    "              loss='categorical_crossentropy',\n",
    "              metrics=['accuracy'])"
   ]
  },
  {
   "cell_type": "code",
   "execution_count": 25,
   "id": "516da87c",
   "metadata": {},
   "outputs": [
    {
     "name": "stdout",
     "output_type": "stream",
     "text": [
      "Model: \"sequential\"\n",
      "_________________________________________________________________\n",
      "Layer (type)                 Output Shape              Param #   \n",
      "=================================================================\n",
      "conv2d (Conv2D)              (None, 32, 32, 32)        896       \n",
      "_________________________________________________________________\n",
      "batch_normalization (BatchNo (None, 32, 32, 32)        128       \n",
      "_________________________________________________________________\n",
      "conv2d_1 (Conv2D)            (None, 32, 32, 32)        9248      \n",
      "_________________________________________________________________\n",
      "max_pooling2d (MaxPooling2D) (None, 16, 16, 32)        0         \n",
      "_________________________________________________________________\n",
      "dropout (Dropout)            (None, 16, 16, 32)        0         \n",
      "_________________________________________________________________\n",
      "conv2d_2 (Conv2D)            (None, 16, 16, 64)        18496     \n",
      "_________________________________________________________________\n",
      "batch_normalization_1 (Batch (None, 16, 16, 64)        256       \n",
      "_________________________________________________________________\n",
      "conv2d_3 (Conv2D)            (None, 16, 16, 64)        36928     \n",
      "_________________________________________________________________\n",
      "max_pooling2d_1 (MaxPooling2 (None, 8, 8, 64)          0         \n",
      "_________________________________________________________________\n",
      "dropout_1 (Dropout)          (None, 8, 8, 64)          0         \n",
      "_________________________________________________________________\n",
      "conv2d_4 (Conv2D)            (None, 8, 8, 128)         73856     \n",
      "_________________________________________________________________\n",
      "batch_normalization_2 (Batch (None, 8, 8, 128)         512       \n",
      "_________________________________________________________________\n",
      "conv2d_5 (Conv2D)            (None, 8, 8, 128)         147584    \n",
      "_________________________________________________________________\n",
      "max_pooling2d_2 (MaxPooling2 (None, 4, 4, 128)         0         \n",
      "_________________________________________________________________\n",
      "dropout_2 (Dropout)          (None, 4, 4, 128)         0         \n",
      "_________________________________________________________________\n",
      "flatten (Flatten)            (None, 2048)              0         \n",
      "_________________________________________________________________\n",
      "dense (Dense)                (None, 128)               262272    \n",
      "_________________________________________________________________\n",
      "dropout_3 (Dropout)          (None, 128)               0         \n",
      "_________________________________________________________________\n",
      "dense_1 (Dense)              (None, 10)                1290      \n",
      "=================================================================\n",
      "Total params: 551,466\n",
      "Trainable params: 551,018\n",
      "Non-trainable params: 448\n",
      "_________________________________________________________________\n"
     ]
    }
   ],
   "source": [
    "model.summary()"
   ]
  },
  {
   "cell_type": "code",
   "execution_count": 30,
   "id": "3053de73",
   "metadata": {},
   "outputs": [
    {
     "name": "stdout",
     "output_type": "stream",
     "text": [
      "Epoch 1/50\n",
      "458/458 [==============================] - 158s 345ms/step - loss: 0.5347 - accuracy: 0.8420 - val_loss: 0.3798 - val_accuracy: 0.8874\n",
      "Epoch 2/50\n",
      "458/458 [==============================] - 169s 369ms/step - loss: 0.4235 - accuracy: 0.8770 - val_loss: 0.3012 - val_accuracy: 0.9193\n",
      "Epoch 3/50\n",
      "458/458 [==============================] - 161s 352ms/step - loss: 0.3688 - accuracy: 0.8958 - val_loss: 0.3104 - val_accuracy: 0.9133\n",
      "Epoch 4/50\n",
      "458/458 [==============================] - 164s 359ms/step - loss: 0.3440 - accuracy: 0.9020 - val_loss: 0.2751 - val_accuracy: 0.9272\n",
      "Epoch 5/50\n",
      "458/458 [==============================] - 164s 358ms/step - loss: 0.3205 - accuracy: 0.9090 - val_loss: 0.2578 - val_accuracy: 0.9307\n",
      "Epoch 6/50\n",
      "458/458 [==============================] - 166s 363ms/step - loss: 0.3047 - accuracy: 0.9139 - val_loss: 0.2598 - val_accuracy: 0.9339\n",
      "Epoch 7/50\n",
      "458/458 [==============================] - 167s 364ms/step - loss: 0.2919 - accuracy: 0.9161 - val_loss: 0.2807 - val_accuracy: 0.9246\n",
      "Epoch 8/50\n",
      "458/458 [==============================] - 169s 369ms/step - loss: 0.2803 - accuracy: 0.9200 - val_loss: 0.2818 - val_accuracy: 0.9219\n",
      "Epoch 9/50\n",
      "458/458 [==============================] - 179s 391ms/step - loss: 0.2665 - accuracy: 0.9236 - val_loss: 0.2545 - val_accuracy: 0.9305\n",
      "Epoch 10/50\n",
      "458/458 [==============================] - 173s 377ms/step - loss: 0.2581 - accuracy: 0.9263 - val_loss: 0.2358 - val_accuracy: 0.9384\n",
      "Epoch 11/50\n",
      "458/458 [==============================] - 171s 373ms/step - loss: 0.2518 - accuracy: 0.9287 - val_loss: 0.2645 - val_accuracy: 0.9298\n",
      "Epoch 12/50\n",
      "458/458 [==============================] - 170s 371ms/step - loss: 0.2405 - accuracy: 0.9321 - val_loss: 0.2272 - val_accuracy: 0.9403\n",
      "Epoch 13/50\n",
      "458/458 [==============================] - 175s 381ms/step - loss: 0.2362 - accuracy: 0.9337 - val_loss: 0.2203 - val_accuracy: 0.9426\n",
      "Epoch 14/50\n",
      "458/458 [==============================] - 174s 380ms/step - loss: 0.2296 - accuracy: 0.9343 - val_loss: 0.2340 - val_accuracy: 0.9399\n",
      "Epoch 15/50\n",
      "458/458 [==============================] - 173s 378ms/step - loss: 0.2250 - accuracy: 0.9357 - val_loss: 0.2274 - val_accuracy: 0.9409\n",
      "Epoch 16/50\n",
      "458/458 [==============================] - 179s 390ms/step - loss: 0.2199 - accuracy: 0.9368 - val_loss: 0.2383 - val_accuracy: 0.9368\n",
      "Epoch 17/50\n",
      "458/458 [==============================] - 171s 372ms/step - loss: 0.2145 - accuracy: 0.9378 - val_loss: 0.2377 - val_accuracy: 0.9407\n",
      "Epoch 18/50\n",
      "458/458 [==============================] - 174s 379ms/step - loss: 0.2126 - accuracy: 0.9394 - val_loss: 0.2194 - val_accuracy: 0.9434\n",
      "Epoch 19/50\n",
      "458/458 [==============================] - 171s 373ms/step - loss: 0.2044 - accuracy: 0.9406 - val_loss: 0.2225 - val_accuracy: 0.9432\n",
      "Epoch 20/50\n",
      "458/458 [==============================] - 172s 376ms/step - loss: 0.2037 - accuracy: 0.9410 - val_loss: 0.2196 - val_accuracy: 0.9439\n",
      "Epoch 21/50\n",
      "458/458 [==============================] - 172s 376ms/step - loss: 0.1967 - accuracy: 0.9432 - val_loss: 0.2156 - val_accuracy: 0.9489\n",
      "Epoch 22/50\n",
      "458/458 [==============================] - 176s 385ms/step - loss: 0.1959 - accuracy: 0.9435 - val_loss: 0.2270 - val_accuracy: 0.9424\n",
      "Epoch 23/50\n",
      "458/458 [==============================] - 169s 368ms/step - loss: 0.1952 - accuracy: 0.9436 - val_loss: 0.2320 - val_accuracy: 0.9423\n",
      "Epoch 24/50\n",
      "458/458 [==============================] - 160s 350ms/step - loss: 0.1911 - accuracy: 0.9446 - val_loss: 0.2630 - val_accuracy: 0.9315\n",
      "Epoch 25/50\n",
      "458/458 [==============================] - 161s 350ms/step - loss: 0.1889 - accuracy: 0.9453 - val_loss: 0.2221 - val_accuracy: 0.9453\n",
      "Epoch 26/50\n",
      "458/458 [==============================] - 160s 349ms/step - loss: 0.1864 - accuracy: 0.9467 - val_loss: 0.2165 - val_accuracy: 0.9489\n",
      "Epoch 27/50\n",
      "458/458 [==============================] - 165s 360ms/step - loss: 0.1816 - accuracy: 0.9469 - val_loss: 0.2059 - val_accuracy: 0.9487\n",
      "Epoch 28/50\n",
      "458/458 [==============================] - 164s 358ms/step - loss: 0.1818 - accuracy: 0.9472 - val_loss: 0.2098 - val_accuracy: 0.9507\n",
      "Epoch 29/50\n",
      "458/458 [==============================] - 162s 354ms/step - loss: 0.1747 - accuracy: 0.9493 - val_loss: 0.2282 - val_accuracy: 0.9481\n",
      "Epoch 30/50\n",
      "458/458 [==============================] - 162s 354ms/step - loss: 0.1750 - accuracy: 0.9495 - val_loss: 0.2267 - val_accuracy: 0.9453\n",
      "Epoch 31/50\n",
      "458/458 [==============================] - 161s 351ms/step - loss: 0.1744 - accuracy: 0.9484 - val_loss: 0.2480 - val_accuracy: 0.9380\n",
      "Epoch 32/50\n",
      "458/458 [==============================] - 161s 351ms/step - loss: 0.1695 - accuracy: 0.9504 - val_loss: 0.2177 - val_accuracy: 0.9500\n",
      "Epoch 33/50\n",
      "458/458 [==============================] - 157s 344ms/step - loss: 0.1721 - accuracy: 0.9496 - val_loss: 0.2281 - val_accuracy: 0.9459\n",
      "Epoch 34/50\n",
      "458/458 [==============================] - 144s 315ms/step - loss: 0.1654 - accuracy: 0.9513 - val_loss: 0.2177 - val_accuracy: 0.9496\n",
      "Epoch 35/50\n",
      "458/458 [==============================] - 142s 311ms/step - loss: 0.1683 - accuracy: 0.9513 - val_loss: 0.2267 - val_accuracy: 0.9483\n",
      "Epoch 36/50\n",
      "458/458 [==============================] - 143s 313ms/step - loss: 0.1612 - accuracy: 0.9518 - val_loss: 0.2215 - val_accuracy: 0.9528\n",
      "Epoch 37/50\n",
      "458/458 [==============================] - 156s 341ms/step - loss: 0.1606 - accuracy: 0.9518 - val_loss: 0.2176 - val_accuracy: 0.9487\n",
      "Epoch 38/50\n",
      "458/458 [==============================] - 145s 317ms/step - loss: 0.1619 - accuracy: 0.9523 - val_loss: 0.2220 - val_accuracy: 0.9469\n",
      "Epoch 39/50\n",
      "458/458 [==============================] - 146s 319ms/step - loss: 0.1583 - accuracy: 0.9532 - val_loss: 0.2115 - val_accuracy: 0.9524\n",
      "Epoch 40/50\n",
      "458/458 [==============================] - 148s 324ms/step - loss: 0.1583 - accuracy: 0.9534 - val_loss: 0.2071 - val_accuracy: 0.9526\n",
      "Epoch 41/50\n",
      "458/458 [==============================] - 152s 333ms/step - loss: 0.1572 - accuracy: 0.9532 - val_loss: 0.2256 - val_accuracy: 0.9475\n",
      "Epoch 42/50\n",
      "458/458 [==============================] - 154s 336ms/step - loss: 0.1524 - accuracy: 0.9544 - val_loss: 0.2134 - val_accuracy: 0.9530\n",
      "Epoch 43/50\n",
      "458/458 [==============================] - 159s 348ms/step - loss: 0.1493 - accuracy: 0.9552 - val_loss: 0.2161 - val_accuracy: 0.9513\n",
      "Epoch 44/50\n",
      "458/458 [==============================] - 157s 342ms/step - loss: 0.1491 - accuracy: 0.9556 - val_loss: 0.2174 - val_accuracy: 0.9497\n",
      "Epoch 45/50\n",
      "458/458 [==============================] - 156s 340ms/step - loss: 0.1500 - accuracy: 0.9559 - val_loss: 0.2128 - val_accuracy: 0.9525\n",
      "Epoch 46/50\n",
      "458/458 [==============================] - 158s 344ms/step - loss: 0.1490 - accuracy: 0.9559 - val_loss: 0.2063 - val_accuracy: 0.9527\n",
      "Epoch 47/50\n",
      "458/458 [==============================] - 158s 344ms/step - loss: 0.1480 - accuracy: 0.9554 - val_loss: 0.2202 - val_accuracy: 0.9517\n",
      "Epoch 48/50\n",
      "458/458 [==============================] - 158s 345ms/step - loss: 0.1438 - accuracy: 0.9563 - val_loss: 0.2193 - val_accuracy: 0.9537\n",
      "Epoch 49/50\n",
      "458/458 [==============================] - 159s 347ms/step - loss: 0.1464 - accuracy: 0.9569 - val_loss: 0.2079 - val_accuracy: 0.9517\n",
      "Epoch 50/50\n",
      "458/458 [==============================] - 160s 350ms/step - loss: 0.1436 - accuracy: 0.9574 - val_loss: 0.2181 - val_accuracy: 0.9537\n"
     ]
    }
   ],
   "source": [
    "output= model.fit(datagen.flow(X_train, y_train, batch_size=128),\n",
    "                              epochs=50, validation_data=(X_val, y_val),\n",
    "                              )"
   ]
  },
  {
   "cell_type": "code",
   "execution_count": 31,
   "id": "32ab6457",
   "metadata": {},
   "outputs": [
    {
     "name": "stdout",
     "output_type": "stream",
     "text": [
      "814/814 [==============================] - 15s 18ms/step - loss: 0.1737 - accuracy: 0.9623\n",
      "test loss =  0.17367669939994812\n",
      "test acc =  0.9622771739959717\n"
     ]
    }
   ],
   "source": [
    "\n",
    "test_loss, test_acc = model.evaluate(x=test_images, y=test_labels)\n",
    "print(\"test loss = \",test_loss)\n",
    "print(\"test acc = \",test_acc)"
   ]
  },
  {
   "cell_type": "code",
   "execution_count": 33,
   "id": "dcdd9e0a",
   "metadata": {},
   "outputs": [],
   "source": [
    "y_pred=model.predict(X_val)"
   ]
  },
  {
   "cell_type": "code",
   "execution_count": 44,
   "id": "a69806ee",
   "metadata": {},
   "outputs": [
    {
     "data": {
      "text/plain": [
       "<matplotlib.image.AxesImage at 0x7fd2fd4f7b50>"
      ]
     },
     "execution_count": 44,
     "metadata": {},
     "output_type": "execute_result"
    },
    {
     "data": {
      "image/png": "[encoded data removed]",
      "text/plain": [
       "<Figure size 432x288 with 1 Axes>"
      ]
     },
     "metadata": {
      "needs_background": "light"
     },
     "output_type": "display_data"
    }
   ],
   "source": [
    "plt.imshow(X_val[14000])"
   ]
  },
  {
   "cell_type": "code",
   "execution_count": 47,
   "id": "39c6e937",
   "metadata": {},
   "outputs": [
    {
     "data": {
      "text/plain": [
       "array([6.0160676e-07, 9.9998939e-01, 1.7415880e-07, 9.7951634e-06,\n",
       "       4.8404228e-08, 1.1638361e-10, 4.5710962e-08, 4.3885557e-09,\n",
       "       3.5096290e-09, 1.0511315e-10], dtype=float32)"
      ]
     },
     "execution_count": 47,
     "metadata": {},
     "output_type": "execute_result"
    }
   ],
   "source": [
    "y_pred[14000]"
   ]
  },
  {
   "cell_type": "code",
   "execution_count": null,
   "id": "522c1208",
   "metadata": {},
   "outputs": [],
   "source": []
  }
 ],
 "metadata": {
  "kernelspec": {
   "display_name": "Python 3",
   "language": "python",
   "name": "python3"
  },
  "language_info": {
   "codemirror_mode": {
    "name": "ipython",
    "version": 3
   },
   "file_extension": ".py",
   "mimetype": "text/x-python",
   "name": "python",
   "nbconvert_exporter": "python",
   "pygments_lexer": "ipython3",
   "version": "3.8.8"
  }
 },
 "nbformat": 4,
 "nbformat_minor": 5
}
